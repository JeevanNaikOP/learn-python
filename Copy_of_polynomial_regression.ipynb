{
  "nbformat": 4,
  "nbformat_minor": 0,
  "metadata": {
    "colab": {
      "name": "Copy of polynomial_regression.ipynb",
      "provenance": [],
      "collapsed_sections": [],
      "include_colab_link": true
    },
    "kernelspec": {
      "name": "python3",
      "display_name": "Python 3"
    }
  },
  "cells": [
    {
      "cell_type": "markdown",
      "metadata": {
        "id": "view-in-github",
        "colab_type": "text"
      },
      "source": [
        "<a href=\"https://colab.research.google.com/github/JeevanNaikOP/learn-python/blob/master/Copy_of_polynomial_regression.ipynb\" target=\"_parent\"><img src=\"https://colab.research.google.com/assets/colab-badge.svg\" alt=\"Open In Colab\"/></a>"
      ]
    },
    {
      "cell_type": "markdown",
      "metadata": {
        "id": "vN99YjPTDena"
      },
      "source": [
        "# Polynomial Regression"
      ]
    },
    {
      "cell_type": "markdown",
      "metadata": {
        "id": "ZIx_naXnDyHd"
      },
      "source": [
        "## Importing the libraries"
      ]
    },
    {
      "cell_type": "code",
      "metadata": {
        "id": "FjnmdyPLD2tS"
      },
      "source": [
        "import numpy as np\n",
        "import matplotlib.pyplot as plt\n",
        "import pandas as pd"
      ],
      "execution_count": 1,
      "outputs": []
    },
    {
      "cell_type": "markdown",
      "metadata": {
        "id": "6c8YExmOD5x5"
      },
      "source": [
        "## Importing the dataset"
      ]
    },
    {
      "cell_type": "code",
      "source": [
        "dataset=pd.read_csv('Position_Salaries.csv')\n",
        "X=dataset.iloc[:,1:-1].values\n",
        "y=dataset.iloc[:,-1].values"
      ],
      "metadata": {
        "id": "yrKFImPa7Ica"
      },
      "execution_count": 2,
      "outputs": []
    },
    {
      "cell_type": "markdown",
      "metadata": {
        "id": "Le8SEL-YEOLb"
      },
      "source": [
        "## Training the Linear Regression model on the whole dataset"
      ]
    },
    {
      "cell_type": "code",
      "source": [
        "from sklearn.linear_model import LinearRegression\n",
        "lin_reg=LinearRegression()\n",
        "lin_reg.fit(X,y)"
      ],
      "metadata": {
        "colab": {
          "base_uri": "https://localhost:8080/"
        },
        "id": "hhPVhBpP75zx",
        "outputId": "523330dd-6761-41ed-ca4a-6f895e6a1b17"
      },
      "execution_count": 3,
      "outputs": [
        {
          "output_type": "execute_result",
          "data": {
            "text/plain": [
              "LinearRegression()"
            ]
          },
          "metadata": {},
          "execution_count": 3
        }
      ]
    },
    {
      "cell_type": "markdown",
      "metadata": {
        "id": "Rb5nWuSHEfBV"
      },
      "source": [
        "## Training the Polynomial Regression model on the whole dataset"
      ]
    },
    {
      "cell_type": "code",
      "source": [
        "from sklearn.preprocessing import PolynomialFeatures\n",
        "poly_reg=PolynomialFeatures(degree=4)\n",
        "X_poly=poly_reg.fit_transform(X)\n",
        "lin_reg2=LinearRegression()\n",
        "lin_reg2.fit(X_poly,y)"
      ],
      "metadata": {
        "colab": {
          "base_uri": "https://localhost:8080/"
        },
        "id": "F8hzt7C88u6I",
        "outputId": "cbf579ab-bc9a-4340-862d-296037c078ce"
      },
      "execution_count": 4,
      "outputs": [
        {
          "output_type": "execute_result",
          "data": {
            "text/plain": [
              "LinearRegression()"
            ]
          },
          "metadata": {},
          "execution_count": 4
        }
      ]
    },
    {
      "cell_type": "markdown",
      "metadata": {
        "id": "0O8R0tzbEpvy"
      },
      "source": [
        "## Visualising the Linear Regression results"
      ]
    },
    {
      "cell_type": "code",
      "source": [
        "plt.scatter(X,y,color='red')\n",
        "plt.plot(X,lin_reg.predict(X),color='blue')\n",
        "plt.title('Linear regression')\n",
        "plt.xlabel('level')\n",
        "plt.ylabel('Salary')\n",
        "plt.show()"
      ],
      "metadata": {
        "colab": {
          "base_uri": "https://localhost:8080/",
          "height": 295
        },
        "id": "tmEbVzzw-p_X",
        "outputId": "8596aa38-07dd-45a4-ecc7-3809e8dbb8c9"
      },
      "execution_count": 5,
      "outputs": [
        {
          "output_type": "display_data",
          "data": {
            "image/png": "[encoded data removed]",
            "text/plain": [
              "<Figure size 432x288 with 1 Axes>"
            ]
          },
          "metadata": {
            "needs_background": "light"
          }
        }
      ]
    },
    {
      "cell_type": "markdown",
      "metadata": {
        "id": "stOnSo74E52m"
      },
      "source": [
        "## Visualising the Polynomial Regression results"
      ]
    },
    {
      "cell_type": "code",
      "source": [
        "plt.scatter(X,y,color='red')\n",
        "plt.plot(X,lin_reg2.predict(X_poly),color='blue')\n",
        "plt.title('Polynomial regression')\n",
        "plt.xlabel('level')\n",
        "plt.ylabel('Salary')\n",
        "plt.show()"
      ],
      "metadata": {
        "colab": {
          "base_uri": "https://localhost:8080/",
          "height": 295
        },
        "id": "p1OfJtWSAeME",
        "outputId": "f40acedd-fee7-4992-e3de-d74e73aef9ba"
      },
      "execution_count": 6,
      "outputs": [
        {
          "output_type": "display_data",
          "data": {
            "image/png": "[encoded data removed]",
            "text/plain": [
              "<Figure size 432x288 with 1 Axes>"
            ]
          },
          "metadata": {
            "needs_background": "light"
          }
        }
      ]
    },
    {
      "cell_type": "markdown",
      "metadata": {
        "id": "U_qsAMKnE-PJ"
      },
      "source": [
        "## Visualising the Polynomial Regression results (for higher resolution and smoother curve)"
      ]
    },
    {
      "cell_type": "code",
      "source": [
        "X_grid = np.arange(min(X), max(X), 0.1)\n",
        "X_grid = X_grid.reshape((len(X_grid), 1))\n",
        "plt.scatter(X, y, color = 'red')\n",
        "plt.plot(X_grid, lin_reg2.predict(poly_reg.fit_transform(X_grid)), color = 'blue')\n",
        "plt.title('Truth or Bluff (Polynomial Regression)')\n",
        "plt.xlabel('Position level')\n",
        "plt.ylabel('Salary')\n",
        "plt.show()"
      ],
      "metadata": {
        "colab": {
          "base_uri": "https://localhost:8080/",
          "height": 295
        },
        "id": "ufFfKWJzBkIk",
        "outputId": "22d83f5a-deb1-4a00-af40-668d3df633dc"
      },
      "execution_count": 7,
      "outputs": [
        {
          "output_type": "display_data",
          "data": {
            "image/png": "[encoded data removed]",
            "text/plain": [
              "<Figure size 432x288 with 1 Axes>"
            ]
          },
          "metadata": {
            "needs_background": "light"
          }
        }
      ]
    },
    {
      "cell_type": "markdown",
      "metadata": {
        "id": "diyJFZHhFFeK"
      },
      "source": [
        "## Predicting a new result with Linear Regression"
      ]
    },
    {
      "cell_type": "code",
      "source": [
        "lin_reg.predict([[6.5]])"
      ],
      "metadata": {
        "colab": {
          "base_uri": "https://localhost:8080/"
        },
        "id": "DOeQJeaJB9Ji",
        "outputId": "52fcbc8b-ce2c-4029-dcff-3c94b58768cd"
      },
      "execution_count": 8,
      "outputs": [
        {
          "output_type": "execute_result",
          "data": {
            "text/plain": [
              "array([330378.78787879])"
            ]
          },
          "metadata": {},
          "execution_count": 8
        }
      ]
    },
    {
      "cell_type": "markdown",
      "metadata": {
        "id": "DW7I7ZVDFNkk"
      },
      "source": [
        "## Predicting a new result with Polynomial Regression"
      ]
    },
    {
      "cell_type": "code",
      "source": [
        "lin_reg2.predict(poly_reg.fit_transform([[6.5]]))"
      ],
      "metadata": {
        "colab": {
          "base_uri": "https://localhost:8080/"
        },
        "id": "WBAtQ071CycZ",
        "outputId": "a91cf4b4-8101-44e3-bdf8-a900e5fc54c7"
      },
      "execution_count": 9,
      "outputs": [
        {
          "output_type": "execute_result",
          "data": {
            "text/plain": [
              "array([158862.45265155])"
            ]
          },
          "metadata": {},
          "execution_count": 9
        }
      ]
    },
    {
      "cell_type": "code",
      "source": [
        ""
      ],
      "metadata": {
        "id": "zPJtH3SmC4st"
      },
      "execution_count": 9,
      "outputs": []
    }
  ]
}